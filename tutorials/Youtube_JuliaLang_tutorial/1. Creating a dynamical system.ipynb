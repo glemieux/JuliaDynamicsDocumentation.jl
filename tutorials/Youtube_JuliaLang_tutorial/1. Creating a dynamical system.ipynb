{
 "cells": [
  {
   "cell_type": "markdown",
   "metadata": {},
   "source": [
    "# Creating a dynamical system\n",
    "\n",
    "Topics:\n",
    "* What *is* a dynamical system in the context of **DynamicalSystems.jl**?\n",
    "* How can we define a discrete or continuous system?\n",
    "* What are the differences in handling large and small systems?\n",
    "    * Handy Dandy definition table!\n",
    "* Comment on DifferentialEquations.jl\n",
    "* Docstrings\n",
    "\n",
    "---\n",
    "\n",
    "# Dynamical System\n",
    "\n",
    "A \"dynamical system\" is a rule that describes how some variables $\\vec{u}$ should evolve in time. This law is described by the \"equations of motion\" function $\\vec{f}$.\n",
    "\n",
    "There are two types of dynamical systems (in our case):\n",
    "\n",
    "1. One is called a map, where time is a discrete quantity (like \"steps\" or \"generations\"). The equations of motion then look something like $\\vec{u}_{n+1} = \\vec{f}(\\vec{u}_n, p, n)$ where $n$ is an integer and $p$ are the parameters of the system.\n",
    "\n",
    "2. The other type is called an Ordinary Differential Equation (ODE), where time is a continuous quantity. Then, the equations of motion give the time derivatives of the variables: $\\frac{d\\vec{u}}{dt} = \\vec{f}(\\vec{u}, p, t)$.\n",
    "\n",
    "In both cases $\\vec{u}$ is the state of the system, a vector of the variables that define the system. For example, $\\vec{u}$ may be defined as $(x, y, z)$, or as $(\\theta, I)$, or as $(V, I, R, C_1, C_2)$, etc.\n",
    "\n",
    "---\n"
   ]
  },
  {
   "cell_type": "markdown",
   "metadata": {},
   "source": [
    "# Creating a simple discrete system\n",
    "\n",
    "\n",
    "A `DynamicalSystem` is a Julia `struct` that contains all the information of a dynamical system:\n",
    "1. Equations of motion function $\\vec{f}$\n",
    "3. Initial state.\n",
    "4. Parameter container (if the equations of motion are parameterized).\n",
    "5. Jacobian of the equations of motion.\n",
    "\n",
    "---\n",
    "\n",
    "For simplicity let's focus on creating a simple discrete chaotic system, the [Hénon map](https://en.wikipedia.org/wiki/H%C3%A9non_map). \n",
    "\n",
    "The constructor we need is:\n",
    "\n",
    "```julia\n",
    "DiscreteDynamicalSystem(eom, state, p)\n",
    "```\n",
    "\n",
    "In order to construct a Hénon map, let's discuss the input arguments we need to pass to this constructor!\n",
    "\n",
    "#### 1. Equations of motion\n",
    "The first argument of the above constructor -`eom`- is a **function** representing the equations of motion.\n",
    "\n",
    "Therefore, the first step in creating a `DynamicalSystem` is to define the equations of motion. For the Hénon map they have the form:\n",
    "\n",
    "$$\n",
    "\\begin{aligned}\n",
    "x_{n+1} &= 1 - ax^2_n+y_n \\\\\n",
    "y_{n+1} & = bx_n\n",
    "\\end{aligned}\n",
    "$$\n",
    "\n",
    "Now we must make a function out of them. There is some strictness when writing this function in Julia. Specifically, it can only be one of two forms: out-of-place (oop) or in-place (iip). Here is how to define it:\n",
    "\n",
    "* **oop** : The `eom` function **must** be in the form `eom(x, p, t) -> SVector`\n",
    "  which means that given a state `x::SVector` and some parameter container\n",
    "  `p` it returns a [`SVector`](http://juliaarrays.github.io/StaticArrays.jl/stable/pages/api.html#SVector-1)\n",
    "  (from the [StaticArrays](https://github.com/JuliaArrays/StaticArrays.jl) module)\n",
    "  containing the next state.\n",
    "* **iip** : The `eom` function **must** be in the form `eom!(xnew, x, p, t)`\n",
    "  which means that given a state `x::Vector` and some parameter container `p`,\n",
    "  it writes in-place the new state in `xnew`.\n",
    "\n",
    "We advise to use **oop** for systems with dimension < 11, and use **iip** otherwise.\n",
    "\n",
    "*If you are familiar with [DifferentialEquations.jl](http://docs.juliadiffeq.org/latest/), then notice that the equations of motion are defined in an identical manner*\n",
    "\n",
    "Because the Hénon map is only 2-dimensional, we follow the advice of the documentation and take advantage of the [`StaticArrays`](https://github.com/JuliaArrays/StaticArrays.jl) module."
   ]
  },
  {
   "cell_type": "code",
   "execution_count": 1,
   "metadata": {},
   "outputs": [
    {
     "data": {
      "text/plain": [
       "h_eom (generic function with 1 method)"
      ]
     },
     "execution_count": 1,
     "metadata": {},
     "output_type": "execute_result"
    }
   ],
   "source": [
    "using DynamicalSystems\n",
    "h_eom(x, p, t) = SVector{2}(1.0 - p[1]*x[1]^2 + x[2], p[2]*x[1])"
   ]
  },
  {
   "cell_type": "markdown",
   "metadata": {},
   "source": [
    "* Remember: *both* `p` (for parameters) and `t` (for time) must be included in the equations of motion function, irrespective of whether they are used or not!\n",
    "\n",
    "#### 2. State\n",
    "\n",
    "The second argument for the `DiscreteDynamicalSystem` constructor is a `state`, which represents the initial condition for the system:"
   ]
  },
  {
   "cell_type": "code",
   "execution_count": 2,
   "metadata": {},
   "outputs": [
    {
     "data": {
      "text/plain": [
       "2-element Array{Float64,1}:\n",
       " 0.0\n",
       " 0.0"
      ]
     },
     "execution_count": 2,
     "metadata": {},
     "output_type": "execute_result"
    }
   ],
   "source": [
    "state = zeros(2) # doesn't matter if we use Vector of SVector for the `state`"
   ]
  },
  {
   "cell_type": "markdown",
   "metadata": {},
   "source": [
    "#### 3. Parameters for our EOM\n",
    "\n",
    "Then, the last argument, `p`, is simply a parameter container.It is best to use a mutable container that can be accessed with brackets (`getindex`)."
   ]
  },
  {
   "cell_type": "code",
   "execution_count": 3,
   "metadata": {},
   "outputs": [
    {
     "data": {
      "text/plain": [
       "2-element Array{Float64,1}:\n",
       " 1.4\n",
       " 0.3"
      ]
     },
     "execution_count": 3,
     "metadata": {},
     "output_type": "execute_result"
    }
   ],
   "source": [
    "p = [1.4, 0.3] # p = [a, b] from the equations of motion"
   ]
  },
  {
   "cell_type": "markdown",
   "metadata": {},
   "source": [
    "These 3 things are enough to make a `DynamicalSystem`:"
   ]
  },
  {
   "cell_type": "code",
   "execution_count": 4,
   "metadata": {},
   "outputs": [
    {
     "data": {
      "text/plain": [
       "2-dimensional discrete dynamical system\n",
       " state:       [0.0, 0.0]\n",
       " e.o.m.:      h_eom\n",
       " in-place?    false\n",
       " jacobian:    ForwardDiff\n",
       " parameters:  [1.4, 0.3]"
      ]
     },
     "execution_count": 4,
     "metadata": {},
     "output_type": "execute_result"
    }
   ],
   "source": [
    "henon = DiscreteDynamicalSystem(h_eom, state, p)"
   ]
  },
  {
   "cell_type": "markdown",
   "metadata": {},
   "source": [
    "## Getting a trajectory\n",
    "\n",
    "Now that we have created the system, the first (and most basic) thing to do is to simply plot its time evolution and see what it looks like. \n",
    "\n",
    "The `trajectory` function is a convenient tool that evolves the system and returns the output at equally spaced time intervals. The call signature is simply:\n",
    "\n",
    "```julia\n",
    "trajectory(ds::DynamicalSystem, T [, u]; kwargs...)\n",
    "```\n",
    "which evolves a system for total time `T`, optionally starting from a different state `u`."
   ]
  },
  {
   "cell_type": "code",
   "execution_count": 5,
   "metadata": {
    "scrolled": false
   },
   "outputs": [
    {
     "data": {
      "text/plain": [
       "2-dimensional Dataset{Float64} with 100001 points\n",
       "  0.0        0.0      \n",
       "  1.0        0.0      \n",
       " -0.4        0.3      \n",
       "  1.076     -0.12     \n",
       " -0.740886   0.3228   \n",
       "  0.554322  -0.222266 \n",
       "  0.347552   0.166297 \n",
       "  0.997188   0.104265 \n",
       " -0.287871   0.299156 \n",
       "  1.18314   -0.0863614\n",
       " -1.0461     0.354942 \n",
       " -0.177128  -0.313831 \n",
       "  0.642244  -0.0531385\n",
       "  ⋮                   \n",
       "  0.582553   0.103    \n",
       "  0.627885   0.174766 \n",
       "  0.622831   0.188365 \n",
       "  0.64528    0.186849 \n",
       "  0.603908   0.193584 \n",
       "  0.682997   0.181173 \n",
       "  0.528095   0.204899 \n",
       "  0.814462   0.158428 \n",
       "  0.229742   0.244338 \n",
       "  1.17044    0.0689225\n",
       " -0.848995   0.351133 \n",
       "  0.342024  -0.254698 \n"
      ]
     },
     "execution_count": 5,
     "metadata": {},
     "output_type": "execute_result"
    }
   ],
   "source": [
    "# trajectory from initial condition\n",
    "tr = trajectory(henon, 100000)"
   ]
  },
  {
   "cell_type": "code",
   "execution_count": 6,
   "metadata": {},
   "outputs": [
    {
     "data": {
      "text/plain": [
       "2-dimensional Dataset{Float64} with 100001 points\n",
       "  0.00396935   0.008115 \n",
       "  1.00809      0.0011908\n",
       " -0.421561     0.302428 \n",
       "  1.05363     -0.126468 \n",
       " -0.680655     0.316089 \n",
       "  0.667481    -0.204196 \n",
       "  0.17206      0.200244 \n",
       "  1.1588       0.051618 \n",
       " -0.828319     0.347639 \n",
       "  0.387081    -0.248496 \n",
       "  0.54174      0.116124 \n",
       "  0.70525      0.162522 \n",
       "  0.466194     0.211575 \n",
       "  ⋮                     \n",
       "  1.22768     -0.033429 \n",
       " -1.1435       0.368303 \n",
       " -0.462319    -0.343049 \n",
       "  0.357716    -0.138696 \n",
       "  0.682159     0.107315 \n",
       "  0.455838     0.204648 \n",
       "  0.913745     0.136751 \n",
       " -0.0321497    0.274123 \n",
       "  1.27268     -0.0096449\n",
       " -1.27723      0.381803 \n",
       " -0.902047    -0.38317  \n",
       " -0.522335    -0.270614 \n"
      ]
     },
     "execution_count": 6,
     "metadata": {},
     "output_type": "execute_result"
    }
   ],
   "source": [
    "# trajectory from a different starting point\n",
    "tr2 = trajectory(henon, 100000, 0.01rand(2))"
   ]
  },
  {
   "cell_type": "code",
   "execution_count": 7,
   "metadata": {},
   "outputs": [
    {
     "data": {
      "image/png": "[encoded data removed]",
      "text/plain": [
       "Figure(PyObject <Figure size 600x400 with 1 Axes>)"
      ]
     },
     "metadata": {},
     "output_type": "display_data"
    }
   ],
   "source": [
    "using PyPlot\n",
    "figure(figsize=(6,4))\n",
    "plot(tr[:, 1], tr[:, 2], lw = 0.0, marker = \"o\", ms = 0.1, alpha = 0.5);\n",
    "plot(tr2[:, 1], tr2[:, 2], lw = 0.0, marker = \"o\", ms = 0.1, alpha = 0.5);\n",
    "xlabel(\"x\"); ylabel(\"y\");"
   ]
  },
  {
   "cell_type": "markdown",
   "metadata": {},
   "source": [
    "## Crash-course on `Dataset`\n",
    "\n",
    "`trajectory` returns an object that is a `Dataset`:"
   ]
  },
  {
   "cell_type": "code",
   "execution_count": 8,
   "metadata": {
    "scrolled": false
   },
   "outputs": [
    {
     "name": "stdout",
     "output_type": "stream",
     "text": [
      "Dataset{2,Float64}\n",
      "2-dimensional Dataset{Float64} with 100001 points\n"
     ]
    }
   ],
   "source": [
    "tr = trajectory(henon, 100000)\n",
    "println(typeof(tr))\n",
    "println(summary(tr))"
   ]
  },
  {
   "cell_type": "markdown",
   "metadata": {},
   "source": [
    "`Dataset` instances handle most data in **DynamicalSystems.jl**. `Dataset` is a wrapper of a `Vector` of `SVector`s (statically sized vectors)."
   ]
  },
  {
   "cell_type": "code",
   "execution_count": 9,
   "metadata": {},
   "outputs": [
    {
     "data": {
      "text/plain": [
       "Array{StaticArrays.SArray{Tuple{2},Float64,1,2},1}"
      ]
     },
     "execution_count": 9,
     "metadata": {},
     "output_type": "execute_result"
    }
   ],
   "source": [
    "typeof(tr.data) # this is where the `Dataset` has the data"
   ]
  },
  {
   "cell_type": "markdown",
   "metadata": {},
   "source": [
    "When accessed with one index, a `Dataset` behaves as a vector of vectors"
   ]
  },
  {
   "cell_type": "code",
   "execution_count": 10,
   "metadata": {},
   "outputs": [
    {
     "data": {
      "text/plain": [
       "2-element StaticArrays.SArray{Tuple{2},Float64,1,2}:\n",
       " 0.0\n",
       " 0.0"
      ]
     },
     "execution_count": 10,
     "metadata": {},
     "output_type": "execute_result"
    }
   ],
   "source": [
    "tr[1] # variables at first time point"
   ]
  },
  {
   "cell_type": "code",
   "execution_count": 11,
   "metadata": {
    "scrolled": true
   },
   "outputs": [
    {
     "data": {
      "text/plain": [
       "5-element Array{StaticArrays.SArray{Tuple{2},Float64,1,2},1}:\n",
       " [0.0, 0.0]         \n",
       " [1.0, 0.0]         \n",
       " [-0.4, 0.3]        \n",
       " [1.076, -0.12]     \n",
       " [-0.740886, 0.3228]"
      ]
     },
     "execution_count": 11,
     "metadata": {},
     "output_type": "execute_result"
    }
   ],
   "source": [
    "tr[1:5]"
   ]
  },
  {
   "cell_type": "markdown",
   "metadata": {},
   "source": [
    "When accessed with two indices, a `Dataset` behaves like a matrix with each column being the timeseries of each dynamic variable"
   ]
  },
  {
   "cell_type": "code",
   "execution_count": 12,
   "metadata": {},
   "outputs": [
    {
     "data": {
      "text/plain": [
       "100001-element Array{Float64,1}:\n",
       "  0.0                \n",
       "  1.0                \n",
       " -0.3999999999999999 \n",
       "  1.076              \n",
       " -0.7408864000000001 \n",
       "  0.554322279213056  \n",
       "  0.3475516150752599 \n",
       "  0.9971877085659265 \n",
       " -0.2878711720383706 \n",
       "  1.1831385762027349 \n",
       " -1.0461049983101596 \n",
       " -0.17712836162447815\n",
       "  0.6422442614184716 \n",
       "  ⋮                  \n",
       "  0.5825532536487135 \n",
       "  0.6278848884863323 \n",
       "  0.6228307696293225 \n",
       "  0.6452800319100239 \n",
       "  0.6039083834742747 \n",
       "  0.682996539690291  \n",
       "  0.5280945325218068 \n",
       "  0.8144615925158913 \n",
       "  0.22974159979961153\n",
       "  1.1704447940048885 \n",
       " -0.8489949421985209 \n",
       "  0.34202406157132875"
      ]
     },
     "execution_count": 12,
     "metadata": {},
     "output_type": "execute_result"
    }
   ],
   "source": [
    "tr[:, 1] # timeseries of first variable"
   ]
  },
  {
   "cell_type": "code",
   "execution_count": 13,
   "metadata": {},
   "outputs": [
    {
     "data": {
      "text/plain": [
       "56-element Array{Float64,1}:\n",
       "  0.0                 \n",
       "  0.0                 \n",
       "  0.3                 \n",
       " -0.11999999999999997 \n",
       "  0.32280000000000003 \n",
       " -0.22226592          \n",
       "  0.1662966837639168  \n",
       "  0.10426548452257796 \n",
       "  0.2991563125697779  \n",
       " -0.08636135161151118 \n",
       "  0.35494157286082045 \n",
       " -0.31383149949304784 \n",
       " -0.053138508487343444\n",
       "  ⋮                   \n",
       "  0.12810927503542277 \n",
       "  0.1865755094841836  \n",
       "  0.1759841523939743  \n",
       "  0.21144401734073576 \n",
       "  0.14415524086197526 \n",
       "  0.2664564490183416  \n",
       "  0.011917722549093615\n",
       "  0.3792741181886356  \n",
       " -0.3677193479648519  \n",
       " -0.21723285259265654 \n",
       " -0.030536328201988844\n",
       "  0.23047862996859167 "
      ]
     },
     "execution_count": 13,
     "metadata": {},
     "output_type": "execute_result"
    }
   ],
   "source": [
    "tr[1:56, 2] # time points 1:56 of second variable"
   ]
  },
  {
   "cell_type": "code",
   "execution_count": 14,
   "metadata": {},
   "outputs": [
    {
     "data": {
      "text/html": [
       "-0.17712836162447815"
      ],
      "text/plain": [
       "-0.17712836162447815"
      ]
     },
     "execution_count": 14,
     "metadata": {},
     "output_type": "execute_result"
    }
   ],
   "source": [
    "tr[12, 1] # value of first variable at 12th timepoint"
   ]
  },
  {
   "cell_type": "code",
   "execution_count": 15,
   "metadata": {},
   "outputs": [
    {
     "data": {
      "text/plain": [
       "2-dimensional Dataset{Float64} with 10 points\n",
       "  0.0        0.0      \n",
       "  1.0        0.0      \n",
       " -0.4        0.3      \n",
       "  1.076     -0.12     \n",
       " -0.740886   0.3228   \n",
       "  0.554322  -0.222266 \n",
       "  0.347552   0.166297 \n",
       "  0.997188   0.104265 \n",
       " -0.287871   0.299156 \n",
       "  1.18314   -0.0863614\n"
      ]
     },
     "execution_count": 15,
     "metadata": {},
     "output_type": "execute_result"
    }
   ],
   "source": [
    "tr[1:10, 1:2] # using two ranges returns a `Dataset`"
   ]
  },
  {
   "cell_type": "markdown",
   "metadata": {},
   "source": [
    "# Adding a Jacobian\n",
    "\n",
    "Let's see `henon` again:"
   ]
  },
  {
   "cell_type": "code",
   "execution_count": 16,
   "metadata": {},
   "outputs": [
    {
     "data": {
      "text/plain": [
       "2-dimensional discrete dynamical system\n",
       " state:       [0.0, 0.0]\n",
       " e.o.m.:      h_eom\n",
       " in-place?    false\n",
       " jacobian:    ForwardDiff\n",
       " parameters:  [1.4, 0.3]"
      ]
     },
     "execution_count": 16,
     "metadata": {},
     "output_type": "execute_result"
    }
   ],
   "source": [
    "henon"
   ]
  },
  {
   "cell_type": "markdown",
   "metadata": {
    "collapsed": true
   },
   "source": [
    "* The last line, \"`jacobian:  ForwardDiff`\"\n",
    "says that the Jacobian function of the equations of motion was computed automatically using the module [`ForwardDiff`](http://www.juliadiff.org/ForwardDiff.jl/stable/user/api.html). \n",
    "* The Jacobian function is a crucial component of a dynamical system, and that is why if it is not given, it is computed automatically.\n",
    "\n",
    "\n",
    "\n",
    "Even though the automatic computation is very efficient, the best possible performance will come if you pass a \"hard-coded\" jacobian:"
   ]
  },
  {
   "cell_type": "code",
   "execution_count": 17,
   "metadata": {},
   "outputs": [
    {
     "data": {
      "text/plain": [
       "h_jacobian (generic function with 1 method)"
      ]
     },
     "execution_count": 17,
     "metadata": {},
     "output_type": "execute_result"
    }
   ],
   "source": [
    "h_jacobian(x, p, t) = @SMatrix [-2*p[1]*x[1] 1.0; p[2] 0.0]"
   ]
  },
  {
   "cell_type": "markdown",
   "metadata": {},
   "source": [
    "* Notice that for **out-of-place** systems, the Jacobian must also have the same form as the equations of motion, namely to return an `SMatrix`.\n",
    "\n",
    "Now, we can pass this Jacobian function to the `DiscreteDynamicalSystem` constructor as a 4th argument:"
   ]
  },
  {
   "cell_type": "code",
   "execution_count": 18,
   "metadata": {},
   "outputs": [
    {
     "data": {
      "text/plain": [
       "2-dimensional discrete dynamical system\n",
       " state:       [0.0, 0.0]\n",
       " e.o.m.:      h_eom\n",
       " in-place?    false\n",
       " jacobian:    h_jacobian\n",
       " parameters:  [1.4, 0.3]"
      ]
     },
     "execution_count": 18,
     "metadata": {},
     "output_type": "execute_result"
    }
   ],
   "source": [
    "henon_with_jac = DiscreteDynamicalSystem(h_eom, state, p, h_jacobian)"
   ]
  },
  {
   "cell_type": "markdown",
   "metadata": {},
   "source": [
    "To see the difference in performance, let's call this Jacobian function"
   ]
  },
  {
   "cell_type": "code",
   "execution_count": 19,
   "metadata": {},
   "outputs": [
    {
     "name": "stdout",
     "output_type": "stream",
     "text": [
      "  2.133 ns (0 allocations: 0 bytes)\n",
      "  2.986 ns (0 allocations: 0 bytes)\n"
     ]
    }
   ],
   "source": [
    "using BenchmarkTools\n",
    "a = rand(SVector{2})\n",
    "@btime $(henon_with_jac.jacobian)($a, $henon.p, 0);\n",
    "@btime $(henon.jacobian)($a, $henon.p, 0);"
   ]
  },
  {
   "cell_type": "markdown",
   "metadata": {},
   "source": [
    "You can see that even though `ForwardDiff` is truly performant, the hard-coded version is faster. *this becomes much more important for higher dimensional systems, especiall for the in-place form*"
   ]
  },
  {
   "cell_type": "markdown",
   "metadata": {},
   "source": [
    "# Continuous Systems\n",
    "* The process of creating a continuous system is identical to that of a discrete system, except that the constructor `ContinuousDynamicalSystem` is used instead. \n",
    "* In this case the function `eom` returns the time derivatives and not a \"next state\".\n",
    "\n",
    "\n",
    "---\n",
    "\n",
    "\n",
    "\n",
    "* We will take the opportunity to show the process of using in-place equations of motion for a continuous system, which is aimed to be used for large systems (dimensionality $\\ge$ 10).\n",
    "\n",
    "* In addition, the system we will use (Henon-Heiles) does not have any parameters.\n",
    "\n",
    "$$\n",
    "\\begin{aligned}\n",
    "\\dot{x} &= p_x \\\\\n",
    "\\dot{y} &= p_y \\\\\n",
    "\\dot{p}_x &= -x -2 xy \\\\\n",
    "\\dot{p}_y &= -y - (x^2 - y^2)\n",
    "\\end{aligned}\n",
    "$$"
   ]
  },
  {
   "cell_type": "code",
   "execution_count": 20,
   "metadata": {},
   "outputs": [
    {
     "data": {
      "text/plain": [
       "4-dimensional continuous dynamical system\n",
       " state:       [0.0, -0.25, 0.42081, 0.0]\n",
       " e.o.m.:      hheom!\n",
       " in-place?    true\n",
       " jacobian:    ForwardDiff\n",
       " parameters:  nothing"
      ]
     },
     "execution_count": 20,
     "metadata": {},
     "output_type": "execute_result"
    }
   ],
   "source": [
    "# Henon-heiles famous system\n",
    "# in-place form of equations of motion\n",
    "# du is the derivatives vector, u is the state vector\n",
    "function hheom!(du, u, p, t)\n",
    "    du[1] = u[3]\n",
    "    du[2] = u[4]\n",
    "    du[3] = -u[1] - 2u[1]*u[2]\n",
    "    du[4] = -u[2] - (u[1]^2 - u[2]^2)\n",
    "    return nothing\n",
    "end\n",
    "\n",
    "# pass `nothing` as the parameters, because the system doesn't have any\n",
    "hh = ContinuousDynamicalSystem(hheom!, [0, -0.25, 0.42081, 0], nothing)"
   ]
  },
  {
   "cell_type": "markdown",
   "metadata": {},
   "source": [
    "Great, now we can get a trajectory of this system, by solving using DifferentialEquations.jl"
   ]
  },
  {
   "cell_type": "code",
   "execution_count": 21,
   "metadata": {},
   "outputs": [
    {
     "data": {
      "text/plain": [
       "4-dimensional Dataset{Float64} with 2001 points\n",
       "  0.0         -0.25      0.42081   0.0      \n",
       "  0.0210361   -0.24961   0.420547  0.0156079\n",
       "  0.0420459   -0.248441  0.419755  0.0311131\n",
       "  0.0630027   -0.246502  0.418429  0.0464137\n",
       "  0.0838796   -0.243805  0.416557  0.0614095\n",
       "  0.104649    -0.240367  0.414125  0.0760025\n",
       "  0.125283    -0.236213  0.411116  0.0900977\n",
       "  0.145751    -0.231368  0.407508  0.103604 \n",
       "  0.166023    -0.225864  0.403277  0.116435 \n",
       "  0.186068    -0.219737  0.398396  0.128509 \n",
       "  0.205851    -0.213026  0.392838  0.139751 \n",
       "  0.22534     -0.205777  0.386572  0.150091 \n",
       "  0.244496    -0.198034  0.379568  0.159465 \n",
       "  ⋮                                         \n",
       " -0.116658    -0.263007  0.370702  0.157562 \n",
       " -0.098057    -0.254734  0.373289  0.173284 \n",
       " -0.0793356   -0.245687  0.375503  0.188535 \n",
       " -0.0605135   -0.23589   0.377313  0.203232 \n",
       " -0.0416116   -0.225374  0.378687  0.217296 \n",
       " -0.0226527   -0.214172  0.379586  0.230651 \n",
       " -0.00366163  -0.202322  0.379968  0.243226 \n",
       "  0.0153347   -0.189864  0.379788  0.254954 \n",
       "  0.034307    -0.176842  0.379     0.265774 \n",
       "  0.0532238   -0.163303  0.377554  0.27563  \n",
       "  0.0720506   -0.149296  0.375399  0.284472 \n",
       "  0.090751    -0.134873  0.372483  0.292256 \n"
      ]
     },
     "execution_count": 21,
     "metadata": {},
     "output_type": "execute_result"
    }
   ],
   "source": [
    "tr = trajectory(hh, 100.0, dt = 0.05)"
   ]
  },
  {
   "cell_type": "code",
   "execution_count": 22,
   "metadata": {},
   "outputs": [
    {
     "data": {
      "image/png": "[encoded data removed]",
      "text/plain": [
       "Figure(PyObject <Figure size 600x400 with 1 Axes>)"
      ]
     },
     "metadata": {},
     "output_type": "display_data"
    }
   ],
   "source": [
    "figure(figsize = (6,4))\n",
    "plot(tr[:, 1], tr[:, 2]);\n",
    "xlabel(\"\\$q_1\\$\"); ylabel(\"\\$q_2\\$\");"
   ]
  },
  {
   "cell_type": "markdown",
   "metadata": {},
   "source": [
    "# Handy-Dandy definition table\n",
    "\n",
    "Depending on whether your system is small or large, you want to use out-of-place or in-place equations of motion. The Jacobian function (if you wish to provide it) must also be of the same form. \n",
    "\n",
    "Here is a handy table that summarizes what the definitions should look like:\n",
    "\n",
    "|          System Type         |    equations of motion    |            Jacobian            |\n",
    "|:----------------------------:|:-------------------------:|:------------------------------:|\n",
    "| in-place (big systems)       | `eom!(du, u, p, t)`       | `jacobian!(J, u, p, t)`        |\n",
    "| out-of-place (small systems) | `eom(u, p, t) -> SVector` | `jacobian(u, p, t) -> SMatrix` |\n"
   ]
  },
  {
   "cell_type": "markdown",
   "metadata": {},
   "source": [
    "# Time-evolution of systems & DifferentialEquations.jl\n",
    "Discrete systems are evolved using internal algorithms. However, all time evolution of continuous systems is done through the [DifferentialEquations.jl](http://docs.juliadiffeq.org/latest/) library. \n",
    "\n",
    "See `DynamicalSystemsBase.CDS_KWARGS` for the default options used to evolve continuous systems.\n",
    "\n",
    "It is almost certain that if you use **DynamicalSystems.jl** you want to use also DifferentialEquations.jl, due to the huge list of available features.\n",
    "\n",
    "\n",
    "## When to use **DynamicalSystems.jl**?\n",
    "At this point in the tutorial you might be thinking:\n",
    "> How is DynamicalSystems.jl different from DifferentialEquations.jl? Seems the same to me so far...\n",
    "\n",
    "That's because we haven't seen any of the actual features of **DynamicalSystems.jl** yet! `trajectory` is nothing more than a \"convenient shortcut\".\n",
    "\n",
    "The [contents page](https://juliadynamics.github.io/DynamicalSystems.jl/latest/#contents) of the documentation does a good job describing what is possible through **DynamicalSystems.jl**.\n",
    "\n",
    "In addition, for usage with DifferentialEquations.jl, we can create specialized integrators that evolve the system and the tangent space, or many states of the system in parallel (at *exactly* same times):\n",
    "* `tangent_integrator`\n",
    "* `parallel_integrator`\n",
    "\n",
    "These functions work for both continuous and discrete systems and also work regardless of whether the system is in-place (large), out-of-place (small) or auto-differentiated. Special attention has also been given to the performance of the integrators. \n",
    "\n",
    "Also, keep in mind that regardless of whether you use a `DynamicalSystem` to produce a timeseries or not, more than half of the **DynamicalSystems.jl** library is using numerical data as an input. Most of the time this numerical data is expected in the form of an `AbstractDataset` instance, which is what `trajectory` returns.\n",
    "\n",
    "## Using DifferentialEquations.jl from a `DynamicalSystem`\n",
    "\n",
    "See the documentation string of `DynamicalSystem`."
   ]
  },
  {
   "cell_type": "markdown",
   "metadata": {
    "collapsed": true
   },
   "source": [
    "# Docstrings"
   ]
  },
  {
   "cell_type": "code",
   "execution_count": 23,
   "metadata": {
    "scrolled": false
   },
   "outputs": [
    {
     "name": "stdout",
     "output_type": "stream",
     "text": [
      "search: \u001b[0m\u001b[1mD\u001b[22m\u001b[0m\u001b[1my\u001b[22m\u001b[0m\u001b[1mn\u001b[22m\u001b[0m\u001b[1ma\u001b[22m\u001b[0m\u001b[1mm\u001b[22m\u001b[0m\u001b[1mi\u001b[22m\u001b[0m\u001b[1mc\u001b[22m\u001b[0m\u001b[1ma\u001b[22m\u001b[0m\u001b[1ml\u001b[22m\u001b[0m\u001b[1mS\u001b[22m\u001b[0m\u001b[1my\u001b[22m\u001b[0m\u001b[1ms\u001b[22m\u001b[0m\u001b[1mt\u001b[22m\u001b[0m\u001b[1me\u001b[22m\u001b[0m\u001b[1mm\u001b[22m \u001b[0m\u001b[1mD\u001b[22m\u001b[0m\u001b[1my\u001b[22m\u001b[0m\u001b[1mn\u001b[22m\u001b[0m\u001b[1ma\u001b[22m\u001b[0m\u001b[1mm\u001b[22m\u001b[0m\u001b[1mi\u001b[22m\u001b[0m\u001b[1mc\u001b[22m\u001b[0m\u001b[1ma\u001b[22m\u001b[0m\u001b[1ml\u001b[22m\u001b[0m\u001b[1mS\u001b[22m\u001b[0m\u001b[1my\u001b[22m\u001b[0m\u001b[1ms\u001b[22m\u001b[0m\u001b[1mt\u001b[22m\u001b[0m\u001b[1me\u001b[22m\u001b[0m\u001b[1mm\u001b[22ms \u001b[0m\u001b[1mD\u001b[22m\u001b[0m\u001b[1my\u001b[22m\u001b[0m\u001b[1mn\u001b[22m\u001b[0m\u001b[1ma\u001b[22m\u001b[0m\u001b[1mm\u001b[22m\u001b[0m\u001b[1mi\u001b[22m\u001b[0m\u001b[1mc\u001b[22m\u001b[0m\u001b[1ma\u001b[22m\u001b[0m\u001b[1ml\u001b[22m\u001b[0m\u001b[1mS\u001b[22m\u001b[0m\u001b[1my\u001b[22m\u001b[0m\u001b[1ms\u001b[22m\u001b[0m\u001b[1mt\u001b[22m\u001b[0m\u001b[1me\u001b[22m\u001b[0m\u001b[1mm\u001b[22msBase\n",
      "\n"
     ]
    },
    {
     "data": {
      "text/markdown": [
       "```\n",
       "DynamicalSystem\n",
       "```\n",
       "\n",
       "The central structure of **DynamicalSystems.jl**. All functions of the suite that can use known equations of motion expect an instance of this type.\n",
       "\n",
       "## Constructing a `DynamicalSystem`\n",
       "\n",
       "```julia\n",
       "DiscreteDynamicalSystem(eom, state, p [, jacobian [, J0]]; t0::Int = 0)\n",
       "ContinuousDynamicalSystem(eom, state, p [, jacobian [, J0]]; t0 = 0.0)\n",
       "```\n",
       "\n",
       "with `eom` the equations of motion function (see below). `p` is a parameter container, which we highly suggest to use a mutable object like `Array`, [`LMArray`](https://github.com/JuliaDiffEq/LabelledArrays.jl) or a dictionary. Pass `nothing` in the place of `p` if your system does not have parameters.\n",
       "\n",
       "`t0`, `J0` allow you to choose the initial time and provide an initialized Jacobian matrix. See `CDS_KWARGS` for the default options used to evolve continuous systems (through `OrdinaryDiffEq`).\n",
       "\n",
       "### Equations of motion\n",
       "\n",
       "The are two \"versions\" for `DynamicalSystem`, depending on whether the equations of motion (`eom`) are in-place (iip) or out-of-place (oop). Here is how to define them:\n",
       "\n",
       "  * **oop** : The `eom` **must** be in the form `eom(x, p, t) -> SVector` which means that given a state `x::SVector` and some parameter container `p` it returns an [`SVector`](http://juliaarrays.github.io/StaticArrays.jl/stable/pages/api.html#SVector-1) (from the [StaticArrays](https://github.com/JuliaArrays/StaticArrays.jl) module) containing the next state.\n",
       "  * **iip** : The `eom` **must** be in the form `eom!(xnew, x, p, t)` which means that given a state `x::Vector` and some parameter container `p`, it writes in-place the new state in `xnew`.\n",
       "\n",
       "`t` stands for time (integer for discrete systems). iip is suggested for big systems, whereas oop is suggested for small systems. The break-even point at around 100 dimensions, and for using functions that use the tangent space (like e.g. `lyapunovs` or `gali`), the break-even point is at around 10 dimensions.\n",
       "\n",
       "The constructor deduces automatically whether `eom` is iip or oop. It is not possible however to deduce whether the system is continuous or discrete just from the equations of motion, hence the 2 constructors.\n",
       "\n",
       "### Jacobian\n",
       "\n",
       "The optional argument `jacobian` for the constructors is a *function* and (if given) must also be of the same form as the `eom`, `jacobian(x, p, n) -> SMatrix` for the out-of-place version and `jacobian!(xnew, x, p, n)` for the in-place version.\n",
       "\n",
       "If `jacobian` is not given, it is constructed automatically using the module [`ForwardDiff`](http://www.juliadiff.org/ForwardDiff.jl/stable/). It is **heavily** advised to provide a Jacobian function, as it gives *multiple* orders of magnitude speedup.\n",
       "\n",
       "### Interface to DifferentialEquations.jl\n",
       "\n",
       "Continuous systems are solved using [**DifferentialEquations.jl**](http://docs.juliadiffeq.org/latest/). The following two interfaces are provided:\n",
       "\n",
       "```\n",
       "ContinuousDynamicalSystem(prob::ODEProblem [, jacobian [, J0]])\n",
       "ODEProblem(continuous_dynamical_system, tspan, args...)\n",
       "```\n",
       "\n",
       "where in the second case `args` stands for the [standard extra arguments](http://docs.juliadiffeq.org/latest/types/ode_types.html#Constructors-1) of `ODEProblem`: `callback, mass_matrix`.\n",
       "\n",
       "If you want to use callbacks with [`tangent_integrator`](@ref) or [`parallel_integrator`](@ref), then invoke them with extra arguments as shown in the [Advanced Documentation](https://juliadynamics.github.io/DynamicalSystems.jl/latest/advanced/).\n",
       "\n",
       "## Relevant Functions\n",
       "\n",
       "[`trajectory`](@ref), [`set_parameter!`](@ref).\n"
      ],
      "text/plain": [
       "\u001b[36m  DynamicalSystem\u001b[39m\n",
       "\n",
       "  The central structure of \u001b[1mDynamicalSystems.jl\u001b[22m. All functions of the suite\n",
       "  that can use known equations of motion expect an instance of this type.\n",
       "\n",
       "\u001b[1m  Constructing a \u001b[36mDynamicalSystem\u001b[39m\u001b[22m\n",
       "\u001b[1m  ================================\u001b[22m\n",
       "\n",
       "\u001b[36m  DiscreteDynamicalSystem(eom, state, p [, jacobian [, J0]]; t0::Int = 0)\u001b[39m\n",
       "\u001b[36m  ContinuousDynamicalSystem(eom, state, p [, jacobian [, J0]]; t0 = 0.0)\u001b[39m\n",
       "\n",
       "  with \u001b[36meom\u001b[39m the equations of motion function (see below). \u001b[36mp\u001b[39m is a parameter\n",
       "  container, which we highly suggest to use a mutable object like \u001b[36mArray\u001b[39m,\n",
       "  \u001b[36mLMArray\u001b[39m (https://github.com/JuliaDiffEq/LabelledArrays.jl) or a dictionary.\n",
       "  Pass \u001b[36mnothing\u001b[39m in the place of \u001b[36mp\u001b[39m if your system does not have parameters.\n",
       "\n",
       "  \u001b[36mt0\u001b[39m, \u001b[36mJ0\u001b[39m allow you to choose the initial time and provide an initialized\n",
       "  Jacobian matrix. See \u001b[36mCDS_KWARGS\u001b[39m for the default options used to evolve\n",
       "  continuous systems (through \u001b[36mOrdinaryDiffEq\u001b[39m).\n",
       "\n",
       "\u001b[1m  Equations of motion\u001b[22m\n",
       "\u001b[1m  –––––––––––––––––––––\u001b[22m\n",
       "\n",
       "  The are two \"versions\" for \u001b[36mDynamicalSystem\u001b[39m, depending on whether the\n",
       "  equations of motion (\u001b[36meom\u001b[39m) are in-place (iip) or out-of-place (oop). Here is\n",
       "  how to define them:\n",
       "\n",
       "    •    \u001b[1moop\u001b[22m : The \u001b[36meom\u001b[39m \u001b[1mmust\u001b[22m be in the form \u001b[36meom(x, p, t) -> SVector\u001b[39m which\n",
       "        means that given a state \u001b[36mx::SVector\u001b[39m and some parameter container \u001b[36mp\u001b[39m\n",
       "        it returns an \u001b[36mSVector\u001b[39m\n",
       "       \n",
       "      (http://juliaarrays.github.io/StaticArrays.jl/stable/pages/api.html#SVector-1)\n",
       "        (from the StaticArrays\n",
       "        (https://github.com/JuliaArrays/StaticArrays.jl) module)\n",
       "        containing the next state.\n",
       "\n",
       "    •    \u001b[1miip\u001b[22m : The \u001b[36meom\u001b[39m \u001b[1mmust\u001b[22m be in the form \u001b[36meom!(xnew, x, p, t)\u001b[39m which means\n",
       "        that given a state \u001b[36mx::Vector\u001b[39m and some parameter container \u001b[36mp\u001b[39m, it\n",
       "        writes in-place the new state in \u001b[36mxnew\u001b[39m.\n",
       "\n",
       "  \u001b[36mt\u001b[39m stands for time (integer for discrete systems). iip is suggested for big\n",
       "  systems, whereas oop is suggested for small systems. The break-even point at\n",
       "  around 100 dimensions, and for using functions that use the tangent space\n",
       "  (like e.g. \u001b[36mlyapunovs\u001b[39m or \u001b[36mgali\u001b[39m), the break-even point is at around 10\n",
       "  dimensions.\n",
       "\n",
       "  The constructor deduces automatically whether \u001b[36meom\u001b[39m is iip or oop. It is not\n",
       "  possible however to deduce whether the system is continuous or discrete just\n",
       "  from the equations of motion, hence the 2 constructors.\n",
       "\n",
       "\u001b[1m  Jacobian\u001b[22m\n",
       "\u001b[1m  ––––––––––\u001b[22m\n",
       "\n",
       "  The optional argument \u001b[36mjacobian\u001b[39m for the constructors is a \u001b[4mfunction\u001b[24m and (if\n",
       "  given) must also be of the same form as the \u001b[36meom\u001b[39m, \u001b[36mjacobian(x, p, n) ->\n",
       "  SMatrix\u001b[39m for the out-of-place version and \u001b[36mjacobian!(xnew, x, p, n)\u001b[39m for the\n",
       "  in-place version.\n",
       "\n",
       "  If \u001b[36mjacobian\u001b[39m is not given, it is constructed automatically using the module\n",
       "  \u001b[36mForwardDiff\u001b[39m (http://www.juliadiff.org/ForwardDiff.jl/stable/). It is \u001b[1mheavily\u001b[22m\n",
       "  advised to provide a Jacobian function, as it gives \u001b[4mmultiple\u001b[24m orders of\n",
       "  magnitude speedup.\n",
       "\n",
       "\u001b[1m  Interface to DifferentialEquations.jl\u001b[22m\n",
       "\u001b[1m  –––––––––––––––––––––––––––––––––––––––\u001b[22m\n",
       "\n",
       "  Continuous systems are solved using \u001b[1mDifferentialEquations.jl\u001b[22m\n",
       "  (http://docs.juliadiffeq.org/latest/). The following two interfaces are\n",
       "  provided:\n",
       "\n",
       "\u001b[36m  ContinuousDynamicalSystem(prob::ODEProblem [, jacobian [, J0]])\u001b[39m\n",
       "\u001b[36m  ODEProblem(continuous_dynamical_system, tspan, args...)\u001b[39m\n",
       "\n",
       "  where in the second case \u001b[36margs\u001b[39m stands for the standard extra arguments\n",
       "  (http://docs.juliadiffeq.org/latest/types/ode_types.html#Constructors-1) of\n",
       "  \u001b[36mODEProblem\u001b[39m: \u001b[36mcallback, mass_matrix\u001b[39m.\n",
       "\n",
       "  If you want to use callbacks with \u001b[36mtangent_integrator\u001b[39m or \u001b[36mparallel_integrator\u001b[39m,\n",
       "  then invoke them with extra arguments as shown in the Advanced Documentation\n",
       "  (https://juliadynamics.github.io/DynamicalSystems.jl/latest/advanced/).\n",
       "\n",
       "\u001b[1m  Relevant Functions\u001b[22m\n",
       "\u001b[1m  ====================\u001b[22m\n",
       "\n",
       "  \u001b[36mtrajectory\u001b[39m, \u001b[36mset_parameter!\u001b[39m."
      ]
     },
     "execution_count": 23,
     "metadata": {},
     "output_type": "execute_result"
    }
   ],
   "source": [
    "?DynamicalSystem"
   ]
  },
  {
   "cell_type": "code",
   "execution_count": 24,
   "metadata": {
    "scrolled": false
   },
   "outputs": [
    {
     "name": "stdout",
     "output_type": "stream",
     "text": [
      "search: \u001b[0m\u001b[1mt\u001b[22m\u001b[0m\u001b[1mr\u001b[22m\u001b[0m\u001b[1ma\u001b[22m\u001b[0m\u001b[1mj\u001b[22m\u001b[0m\u001b[1me\u001b[22m\u001b[0m\u001b[1mc\u001b[22m\u001b[0m\u001b[1mt\u001b[22m\u001b[0m\u001b[1mo\u001b[22m\u001b[0m\u001b[1mr\u001b[22m\u001b[0m\u001b[1my\u001b[22m\n",
      "\n"
     ]
    },
    {
     "data": {
      "text/markdown": [
       "```\n",
       "trajectory(ds::DynamicalSystem, T [, u]; kwargs...) -> dataset\n",
       "```\n",
       "\n",
       "Return a dataset that will contain the trajectory of the system, after evolving it for total time `T`, optionally starting from state `u`. See [`Dataset`](@ref) for info on how to use this object.\n",
       "\n",
       "A `W×D` dataset is returned, with `W = length(t0:dt:T)` with `t0:dt:T` representing the time vector (*not* returned) and `D` the system dimension. For discrete systems both `T` and `dt` must be integers.\n",
       "\n",
       "## Keyword Arguments\n",
       "\n",
       "  * `dt` :  Time step of value output during the solving of the continuous system. For discrete systems it must be an integer. Defaults to `0.01` for continuous and `1` for discrete.\n",
       "  * `Ttr` : Transient time to evolve the initial state before starting saving states.\n",
       "  * `diffeq...` : Keyword arguments propagated into `init` of DifferentialEquations.jl. For example `abstol = 1e-9`.  Only valid for continuous systems. If you want to specify a solver, do so by using the name `alg`, e.g.: `alg = Tsit5(), maxiters = 1000`. This requires you to have been first `using OrdinaryDiffEq` to access the solvers. See `DynamicalSystemsBase.CDS_KWARGS` for default values. These keywords can also include `callback` for [event handling](http://docs.juliadiffeq.org/latest/features/callback_functions.html). Using a `SavingCallback` with `trajectory` will lead to unexpected behavior!\n"
      ],
      "text/plain": [
       "\u001b[36m  trajectory(ds::DynamicalSystem, T [, u]; kwargs...) -> dataset\u001b[39m\n",
       "\n",
       "  Return a dataset that will contain the trajectory of the system, after\n",
       "  evolving it for total time \u001b[36mT\u001b[39m, optionally starting from state \u001b[36mu\u001b[39m. See \u001b[36mDataset\u001b[39m\n",
       "  for info on how to use this object.\n",
       "\n",
       "  A \u001b[36mW×D\u001b[39m dataset is returned, with \u001b[36mW = length(t0:dt:T)\u001b[39m with \u001b[36mt0:dt:T\u001b[39m\n",
       "  representing the time vector (\u001b[4mnot\u001b[24m returned) and \u001b[36mD\u001b[39m the system dimension. For\n",
       "  discrete systems both \u001b[36mT\u001b[39m and \u001b[36mdt\u001b[39m must be integers.\n",
       "\n",
       "\u001b[1m  Keyword Arguments\u001b[22m\n",
       "\u001b[1m  ===================\u001b[22m\n",
       "\n",
       "    •    \u001b[36mdt\u001b[39m : Time step of value output during the solving of the\n",
       "        continuous system. For discrete systems it must be an integer.\n",
       "        Defaults to \u001b[36m0.01\u001b[39m for continuous and \u001b[36m1\u001b[39m for discrete.\n",
       "\n",
       "    •    \u001b[36mTtr\u001b[39m : Transient time to evolve the initial state before starting\n",
       "        saving states.\n",
       "\n",
       "    •    \u001b[36mdiffeq...\u001b[39m : Keyword arguments propagated into \u001b[36minit\u001b[39m of\n",
       "        DifferentialEquations.jl. For example \u001b[36mabstol = 1e-9\u001b[39m. Only valid\n",
       "        for continuous systems. If you want to specify a solver, do so by\n",
       "        using the name \u001b[36malg\u001b[39m, e.g.: \u001b[36malg = Tsit5(), maxiters = 1000\u001b[39m. This\n",
       "        requires you to have been first \u001b[36musing OrdinaryDiffEq\u001b[39m to access the\n",
       "        solvers. See \u001b[36mDynamicalSystemsBase.CDS_KWARGS\u001b[39m for default values.\n",
       "        These keywords can also include \u001b[36mcallback\u001b[39m for event handling\n",
       "       \n",
       "      (http://docs.juliadiffeq.org/latest/features/callback_functions.html).\n",
       "        Using a \u001b[36mSavingCallback\u001b[39m with \u001b[36mtrajectory\u001b[39m will lead to unexpected\n",
       "        behavior!"
      ]
     },
     "execution_count": 24,
     "metadata": {},
     "output_type": "execute_result"
    }
   ],
   "source": [
    "?trajectory"
   ]
  },
  {
   "cell_type": "code",
   "execution_count": 25,
   "metadata": {
    "scrolled": false
   },
   "outputs": [
    {
     "name": "stdout",
     "output_type": "stream",
     "text": [
      "search: \u001b[0m\u001b[1mD\u001b[22m\u001b[0m\u001b[1ma\u001b[22m\u001b[0m\u001b[1mt\u001b[22m\u001b[0m\u001b[1ma\u001b[22m\u001b[0m\u001b[1ms\u001b[22m\u001b[0m\u001b[1me\u001b[22m\u001b[0m\u001b[1mt\u001b[22m Abstract\u001b[0m\u001b[1mD\u001b[22m\u001b[0m\u001b[1ma\u001b[22m\u001b[0m\u001b[1mt\u001b[22m\u001b[0m\u001b[1ma\u001b[22m\u001b[0m\u001b[1ms\u001b[22m\u001b[0m\u001b[1me\u001b[22m\u001b[0m\u001b[1mt\u001b[22m \u001b[0m\u001b[1mD\u001b[22myn\u001b[0m\u001b[1ma\u001b[22mmicalSys\u001b[0m\u001b[1mt\u001b[22memsB\u001b[0m\u001b[1ma\u001b[22m\u001b[0m\u001b[1ms\u001b[22m\u001b[0m\u001b[1me\u001b[22m\n",
      "\n"
     ]
    },
    {
     "data": {
      "text/markdown": [
       "```\n",
       "Dataset{D, T} <: AbstractDataset{D,T}\n",
       "```\n",
       "\n",
       "A dedicated interface for datasets. It contains *equally-sized datapoints* of length `D`, represented by `SVector{D, T}`.\n",
       "\n",
       "When indexed with 1 index, a `dataset` is like a vector of datapoints.\n",
       "\n",
       "When indexed with 2 indices it behaves like a matrix that has each of the columns be the timeseries of each of the dynamic variables.\n",
       "\n",
       "## Description of indexing\n",
       "\n",
       "In the following let `i, j` be integers,  `typeof(data) <: AbstractDataset` and `v1, v2` be `<: AbstractVector{Int}` (`v1, v2` could also be ranges).\n",
       "\n",
       "  * `data[i]` gives the `i`th datapoint (returns an `SVector`)\n",
       "  * `data[v1]` will return a vector of datapoints\n",
       "  * `data[v1, :]` using a `Colon` as a second index will return a `Dataset` of these points\n",
       "  * `data[:, j]` gives the `j`th variable timeseries, as `Vector`\n",
       "  * `data[v1, v2]` returns a `Dataset` with the appropriate entries (first indices being \"time\"/point index, while second being dynamic variables)\n",
       "  * `data[i, j]` value of the `j`th variable, at the `i`th timepoint\n",
       "\n",
       "Use `Matrix(dataset)` or `Dataset(matrix)` to convert. It is assumed that each *column* of the `matrix` is one dynamic variable. If you have various timeseries vectors `x, y, z, ...` pass them like `Dataset(x, y, z, ...)`. You can use `columns(dataset)` to obtain the reverse, i.e. all columns of the dataset in a tuple.\n"
      ],
      "text/plain": [
       "\u001b[36m  Dataset{D, T} <: AbstractDataset{D,T}\u001b[39m\n",
       "\n",
       "  A dedicated interface for datasets. It contains \u001b[4mequally-sized datapoints\u001b[24m of\n",
       "  length \u001b[36mD\u001b[39m, represented by \u001b[36mSVector{D, T}\u001b[39m.\n",
       "\n",
       "  When indexed with 1 index, a \u001b[36mdataset\u001b[39m is like a vector of datapoints.\n",
       "\n",
       "  When indexed with 2 indices it behaves like a matrix that has each of the\n",
       "  columns be the timeseries of each of the dynamic variables.\n",
       "\n",
       "\u001b[1m  Description of indexing\u001b[22m\n",
       "\u001b[1m  =========================\u001b[22m\n",
       "\n",
       "  In the following let \u001b[36mi, j\u001b[39m be integers, \u001b[36mtypeof(data) <: AbstractDataset\u001b[39m and\n",
       "  \u001b[36mv1, v2\u001b[39m be \u001b[36m<: AbstractVector{Int}\u001b[39m (\u001b[36mv1, v2\u001b[39m could also be ranges).\n",
       "\n",
       "    •    \u001b[36mdata[i]\u001b[39m gives the \u001b[36mi\u001b[39mth datapoint (returns an \u001b[36mSVector\u001b[39m)\n",
       "\n",
       "    •    \u001b[36mdata[v1]\u001b[39m will return a vector of datapoints\n",
       "\n",
       "    •    \u001b[36mdata[v1, :]\u001b[39m using a \u001b[36mColon\u001b[39m as a second index will return a \u001b[36mDataset\u001b[39m\n",
       "        of these points\n",
       "\n",
       "    •    \u001b[36mdata[:, j]\u001b[39m gives the \u001b[36mj\u001b[39mth variable timeseries, as \u001b[36mVector\u001b[39m\n",
       "\n",
       "    •    \u001b[36mdata[v1, v2]\u001b[39m returns a \u001b[36mDataset\u001b[39m with the appropriate entries (first\n",
       "        indices being \"time\"/point index, while second being dynamic\n",
       "        variables)\n",
       "\n",
       "    •    \u001b[36mdata[i, j]\u001b[39m value of the \u001b[36mj\u001b[39mth variable, at the \u001b[36mi\u001b[39mth timepoint\n",
       "\n",
       "  Use \u001b[36mMatrix(dataset)\u001b[39m or \u001b[36mDataset(matrix)\u001b[39m to convert. It is assumed that each\n",
       "  \u001b[4mcolumn\u001b[24m of the \u001b[36mmatrix\u001b[39m is one dynamic variable. If you have various timeseries\n",
       "  vectors \u001b[36mx, y, z, ...\u001b[39m pass them like \u001b[36mDataset(x, y, z, ...)\u001b[39m. You can use\n",
       "  \u001b[36mcolumns(dataset)\u001b[39m to obtain the reverse, i.e. all columns of the dataset in a\n",
       "  tuple."
      ]
     },
     "execution_count": 25,
     "metadata": {},
     "output_type": "execute_result"
    }
   ],
   "source": [
    "?Dataset"
   ]
  }
 ],
 "metadata": {
  "kernelspec": {
   "display_name": "Julia 1.0.0",
   "language": "julia",
   "name": "julia-1.0"
  },
  "language_info": {
   "file_extension": ".jl",
   "mimetype": "application/julia",
   "name": "julia",
   "version": "1.0.0"
  }
 },
 "nbformat": 4,
 "nbformat_minor": 2
}
